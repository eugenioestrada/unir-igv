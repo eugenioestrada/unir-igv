{
 "cells": [
  {
   "cell_type": "code",
   "execution_count": 1,
   "metadata": {
    "dotnet_interactive": {
     "language": "csharp"
    },
    "polyglot_notebook": {
     "kernelName": "csharp"
    }
   },
   "outputs": [
    {
     "name": "stdout",
     "output_type": "stream",
     "text": [
      "Note: you may need to restart the kernel to use updated packages.\n"
     ]
    },
    {
     "name": "stderr",
     "output_type": "stream",
     "text": [
      "ERROR: Could not find a version that satisfies the requirement freeglut (from versions: none)\n",
      "ERROR: No matching distribution found for freeglut\n"
     ]
    }
   ],
   "source": [
    "%pip install freeglut"
   ]
  },
  {
   "cell_type": "markdown",
   "metadata": {},
   "source": [
    "Importamos las librerías que vamos a usar"
   ]
  },
  {
   "cell_type": "code",
   "execution_count": 2,
   "metadata": {
    "dotnet_interactive": {
     "language": "csharp"
    },
    "polyglot_notebook": {
     "kernelName": "csharp"
    }
   },
   "outputs": [],
   "source": [
    "from OpenGL.GL import *\n",
    "from OpenGL.GLUT import *\n",
    "from OpenGL.GLU import *\n",
    "from math import sin, cos, pi"
   ]
  },
  {
   "cell_type": "markdown",
   "metadata": {},
   "source": [
    "Definimos la paleta dew colores"
   ]
  },
  {
   "cell_type": "code",
   "execution_count": 3,
   "metadata": {},
   "outputs": [],
   "source": [
    "WHITE = (200/255,200/255,200/255)\n",
    "RED = (253/255,11/255,23/255)\n",
    "YELLOW = (221/255, 255/255, 141/255)\n",
    "DARK_BLUE = (56/255, 67/255, 85/255)"
   ]
  },
  {
   "cell_type": "markdown",
   "metadata": {},
   "source": [
    "Inicializamos la librería GLUT"
   ]
  },
  {
   "cell_type": "code",
   "execution_count": 4,
   "metadata": {},
   "outputs": [],
   "source": [
    "def init_gl():\n",
    "    glutInit()                                          # Inicializa la librería GLUT\n",
    "    glutInitDisplayMode(GLUT_SINGLE | GLUT_RGB)         # Único frame buffer y modo de color RGBA\n",
    "    glutInitWindowSize(1280, 720)                        # Tamaño de la ventana (ancho, alto)\n",
    "    glutInitWindowPosition(100, 100)                    # Posición de la ventana (x, y)\n",
    "    glutCreateWindow(b'Practica OpenGL')                # Título de la ventana\n",
    "    glClearColor(*WHITE, 1.0)                           # Color de fondo (blanco)\n",
    "    glMatrixMode(GL_PROJECTION)                         # Selecciona la matriz de proyección\n",
    "    gluOrtho2D(0, 1280, 0, 720)                          # Definir el espacio de trabajo"
   ]
  },
  {
   "cell_type": "markdown",
   "metadata": {},
   "source": [
    "Creamos la función que permite dibujar un cículo"
   ]
  },
  {
   "cell_type": "code",
   "execution_count": 5,
   "metadata": {},
   "outputs": [],
   "source": [
    "def draw_circle(x, y, radius, color):\n",
    "    pos_x, pos_y = x, y  # Centro del círculo\n",
    "    sides = 512  # Número de segmentos para crear el círculo\n",
    "\n",
    "    glColor3f(*color)  # Color púrpura\n",
    "\n",
    "    glBegin(GL_POLYGON)  # Comienza a dibujar un polígono\n",
    "    for i in range(sides):\n",
    "        cosine = radius * cos(i * 2 * pi / sides) + pos_x\n",
    "        sine = radius * sin(i * 2 * pi / sides) + pos_y\n",
    "        glVertex2f(cosine, sine)\n",
    "    glEnd()  # Termina de dibujar el polígono"
   ]
  },
  {
   "cell_type": "markdown",
   "metadata": {},
   "source": [
    "Creamos la función que permite dibujar un cuadrado usando el tamaño, el color y un angulo"
   ]
  },
  {
   "cell_type": "code",
   "execution_count": 6,
   "metadata": {},
   "outputs": [],
   "source": [
    "def draw_square(x, y, size, color, angle):\n",
    "    glColor3f(*color)\n",
    "    \n",
    "    # Guarda el estado actual de la matriz\n",
    "    glPushMatrix()\n",
    "    \n",
    "    # Mueve el origen al centro del cuadrado para la rotación\n",
    "    glTranslatef(x + size / 2, y + size / 2, 0)\n",
    "    \n",
    "    # Rota alrededor del eje Z\n",
    "    glRotatef(angle, 0, 0, 1)\n",
    "    \n",
    "    # Mueve el cuadrado de vuelta a su posición original\n",
    "    glTranslatef(-x - size / 2, -y - size / 2, 0)\n",
    "    \n",
    "    # Dibuja el cuadrado\n",
    "    glBegin(GL_QUADS)\n",
    "    glVertex2f(x, y)\n",
    "    glVertex2f(x + size, y)\n",
    "    glVertex2f(x + size, y + size)\n",
    "    glVertex2f(x, y + size)\n",
    "    glEnd()\n",
    "    \n",
    "    # Restaura el estado anterior de la matriz\n",
    "    glPopMatrix()"
   ]
  },
  {
   "cell_type": "markdown",
   "metadata": {},
   "source": [
    "Creamos la función que permite dibujar un rectángulo usando el tamaño, el color y un angulo"
   ]
  },
  {
   "cell_type": "code",
   "execution_count": 7,
   "metadata": {},
   "outputs": [],
   "source": [
    "def draw_rectangle(x, y, width, height, color, angle):\n",
    "    glColor3f(*color)\n",
    "    \n",
    "    # Guarda el estado actual de la matriz\n",
    "    glPushMatrix()\n",
    "    \n",
    "    # Mueve el origen al centro del rectángulo para la rotación\n",
    "    glTranslatef(x + width / 2, y + height / 2, 0)\n",
    "    \n",
    "    # Rota alrededor del eje Z\n",
    "    glRotatef(angle, 0, 0, 1)\n",
    "    \n",
    "    # Mueve el rectángulo de vuelta a su posición original\n",
    "    glTranslatef(-x - width / 2, -y - height / 2, 0)\n",
    "    \n",
    "    # Dibuja el rectángulo\n",
    "    glBegin(GL_QUADS)\n",
    "    glVertex2f(x, y)\n",
    "    glVertex2f(x + width, y)\n",
    "    glVertex2f(x + width, y + height)\n",
    "    glVertex2f(x, y + height)\n",
    "    glEnd()\n",
    "    \n",
    "    # Restaura el estado anterior de la matriz\n",
    "    glPopMatrix()"
   ]
  },
  {
   "cell_type": "markdown",
   "metadata": {},
   "source": [
    "Creamos la función que permite dibujar un rectángulo usando el tamaño, el color, un angulo y el efecto zizalla (shearing)"
   ]
  },
  {
   "cell_type": "code",
   "execution_count": 8,
   "metadata": {},
   "outputs": [],
   "source": [
    "def draw_rectangle_sheared(x, y, width, height, color, angle, shearX, shearY):\n",
    "    glColor3f(*color)\n",
    "    \n",
    "    # Guarda el estado actual de la matriz\n",
    "    glPushMatrix()\n",
    "    \n",
    "    # Mueve el origen al centro del rectángulo para la rotación y el shearing\n",
    "    glTranslatef(x + width / 2, y + height / 2, 0)\n",
    "    \n",
    "    # Aplica rotación\n",
    "    glRotatef(angle, 0, 0, 1)\n",
    "    \n",
    "    # Aplica shearing\n",
    "    shearMatrix = [\n",
    "        1, shearY, 0, 0,\n",
    "        shearX, 1, 0, 0,\n",
    "        0, 0, 1, 0,\n",
    "        0, 0, 0, 1\n",
    "    ]\n",
    "    glMultMatrixf(shearMatrix)\n",
    "    \n",
    "    # Mueve el rectángulo de vuelta a su posición original\n",
    "    glTranslatef(-x - width / 2, -y - height / 2, 0)\n",
    "    \n",
    "    # Dibuja el rectángulo\n",
    "    glBegin(GL_QUADS)\n",
    "    glVertex2f(x, y)\n",
    "    glVertex2f(x + width, y)\n",
    "    glVertex2f(x + width, y + height)\n",
    "    glVertex2f(x, y + height)\n",
    "    glEnd()\n",
    "    \n",
    "    # Restaura el estado anterior de la matriz\n",
    "    glPopMatrix()"
   ]
  },
  {
   "cell_type": "markdown",
   "metadata": {},
   "source": [
    "Creamos la función que permite dibujar un triángulo usando el tamaño, el color y un angulo"
   ]
  },
  {
   "cell_type": "code",
   "execution_count": 9,
   "metadata": {},
   "outputs": [],
   "source": [
    "def draw_triangle(x, y, width, height, color, angle):\n",
    "    glColor3f(*color)\n",
    "    \n",
    "    # Guarda el estado actual de la matriz\n",
    "    glPushMatrix()\n",
    "    \n",
    "    # Calcula el centro del triángulo para la rotación\n",
    "    # Para un triángulo equilátero, esto podría ser diferente.\n",
    "    centerX = x + width / 2\n",
    "    centerY = y + height / 3\n",
    "    \n",
    "    # Mueve el origen al centro del triángulo para la rotación\n",
    "    glTranslatef(centerX, centerY, 0)\n",
    "    \n",
    "    # Rota alrededor del eje Z\n",
    "    glRotatef(angle, 0, 0, 1)\n",
    "    \n",
    "    # Mueve el triángulo de vuelta a su posición original\n",
    "    glTranslatef(-centerX, -centerY, 0)\n",
    "    \n",
    "    # Dibuja el triángulo\n",
    "    glBegin(GL_TRIANGLES)\n",
    "    glVertex2f(x, y)  # Punto base izquierdo\n",
    "    glVertex2f(x + width / 2, y + height)  # Punto superior\n",
    "    glVertex2f(x + width, y)  # Punto base derecho\n",
    "    glEnd()\n",
    "    \n",
    "    # Restaura el estado anterior de la matriz\n",
    "    glPopMatrix()"
   ]
  },
  {
   "cell_type": "markdown",
   "metadata": {},
   "source": [
    "Funciones para dibujar las personas "
   ]
  },
  {
   "cell_type": "code",
   "execution_count": 10,
   "metadata": {},
   "outputs": [],
   "source": [
    "def draw_first_person():\n",
    "    # Pelota\n",
    "    draw_circle(70, 720-100, 30, DARK_BLUE)\n",
    "\n",
    "    # Cabeza\n",
    "    draw_square(240, 720-90, 60, RED, 10)\n",
    "    draw_triangle(240, 720-150, 120, 60, YELLOW, 0)\n",
    "    draw_triangle(240, 720-195, 120, 60, DARK_BLUE, 180)\n",
    "    draw_triangle(260, 720-270, 120, 60, RED, 90)\n",
    "    draw_triangle(315, 720-355, 90, 45, YELLOW, 270)\n",
    "    draw_triangle(90, 720-180, 90, 45, YELLOW, 135)\n",
    "    draw_rectangle_sheared(200, 720-225, 80, 40, RED, 0, -1, 0)\n",
    "\n",
    "def draw_second_person():\n",
    "    basex = 400\n",
    "    basey = -150\n",
    "\n",
    "    draw_square(basex + 160, basey + 720-120, 60, RED, 10)\n",
    "    draw_triangle(basex + 180, basey + 720-150, 120, 60, YELLOW, 210)\n",
    "    draw_triangle(basex + 235, basey + 720-180, 120, 60, DARK_BLUE, 120)\n",
    "    draw_triangle(basex + 220, basey + 720-270, 120, 60, RED, 70)\n",
    "    draw_triangle(basex + 240, basey + 720-370, 90, 45, YELLOW, 250)\n",
    "    draw_rectangle_sheared(basex + 190, basey + 720-220, 80, 40, RED, -20, 1, 0)\n",
    "    draw_triangle(basex + 80, basey + 720-220, 90, 45, YELLOW, 160)\n",
    "\n",
    "def draw_thrid_person():\n",
    "    basex = 800\n",
    "    basey = -300\n",
    "\n",
    "    draw_square(basex + 190, basey + 720-80, 60, RED, -10)\n",
    "    draw_triangle(basex + 200, basey + 720-130, 120, 60, YELLOW, 180)\n",
    "    draw_triangle(basex + 235, basey + 720-180, 120, 60, DARK_BLUE, 90)\n",
    "    draw_triangle(basex + 180, basey + 720-250, 120, 60, RED, 45)\n",
    "    draw_triangle(basex + 170, basey + 720-320, 90, 45, YELLOW, 225)\n",
    "\n",
    "    draw_rectangle_sheared(basex + 190, basey + 720-190, 80, 40, RED, -45, 1, 0)\n",
    "    draw_triangle(basex + 90, basey + 720-150, 90, 45, YELLOW, 135)"
   ]
  },
  {
   "cell_type": "markdown",
   "metadata": {},
   "source": [
    "Método display"
   ]
  },
  {
   "cell_type": "code",
   "execution_count": 11,
   "metadata": {},
   "outputs": [],
   "source": [
    "def display():\n",
    "    glClear(GL_COLOR_BUFFER_BIT)\n",
    "\n",
    "    draw_first_person()\n",
    "    draw_second_person()\n",
    "    draw_thrid_person()\n",
    "\n",
    "    glFlush()"
   ]
  },
  {
   "cell_type": "markdown",
   "metadata": {},
   "source": [
    "Código para pintar la escena con GLUT"
   ]
  },
  {
   "cell_type": "code",
   "execution_count": 12,
   "metadata": {},
   "outputs": [
    {
     "ename": "",
     "evalue": "",
     "output_type": "error",
     "traceback": [
      "\u001b[1;31mThe Kernel crashed while executing code in the current cell or a previous cell. \n",
      "\u001b[1;31mPlease review the code in the cell(s) to identify a possible cause of the failure. \n",
      "\u001b[1;31mClick <a href='https://aka.ms/vscodeJupyterKernelCrash'>here</a> for more info. \n",
      "\u001b[1;31mView Jupyter <a href='command:jupyter.viewOutput'>log</a> for further details."
     ]
    }
   ],
   "source": [
    "def main():\n",
    "    init_gl()\n",
    "    glutDisplayFunc(display)       # Establecer la callback de display\n",
    "    glutMainLoop()                 # Deja la ventana abierta a la espera de eventos\n",
    "\n",
    "main()"
   ]
  }
 ],
 "metadata": {
  "kernelspec": {
   "display_name": "Python 3",
   "language": "python",
   "name": "python3"
  },
  "language_info": {
   "codemirror_mode": {
    "name": "ipython",
    "version": 3
   },
   "file_extension": ".py",
   "mimetype": "text/x-python",
   "name": "python",
   "nbconvert_exporter": "python",
   "pygments_lexer": "ipython3",
   "version": "3.11.8"
  },
  "polyglot_notebook": {
   "kernelInfo": {
    "defaultKernelName": "csharp",
    "items": [
     {
      "aliases": [],
      "name": "csharp"
     }
    ]
   }
  }
 },
 "nbformat": 4,
 "nbformat_minor": 2
}
