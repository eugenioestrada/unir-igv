{
 "cells": [
  {
   "cell_type": "markdown",
   "id": "599de1b7",
   "metadata": {},
   "source": [
    "## Cuaderno para probar el entorno de desarrollo"
   ]
  },
  {
   "cell_type": "code",
   "execution_count": 1,
   "id": "17114991",
   "metadata": {
    "scrolled": true
   },
   "outputs": [],
   "source": [
    "from OpenGL.GL import *\n",
    "from OpenGL.GLUT import *\n",
    "from OpenGL.GLU import *"
   ]
  },
  {
   "cell_type": "markdown",
   "id": "e07e6f56",
   "metadata": {},
   "source": [
    "### Función de inicialización de la librería con los valores deseados"
   ]
  },
  {
   "cell_type": "code",
   "execution_count": 2,
   "id": "5ab2fcc2",
   "metadata": {},
   "outputs": [],
   "source": [
    "def init_gl():\n",
    "    glutInit()                                          # Inicializa la librería GLUT\n",
    "    glutInitDisplayMode(GLUT_SINGLE | GLUT_RGB)         # Único frame buffer y modo de color RGBA\n",
    "    glutInitWindowSize(500, 500)                        # (width, height)\n",
    "    glutInitWindowPosition(100, 100)                    # (x pos, y pos)\n",
    "    glutCreateWindow(b'Prueba entorno de desarrollo')   # Creación de la ventana (si no se pone b da error)\n",
    "    glClearColor(1.0, 1.0, 1.0, 1.0);                   # Color de limpieza del buffer de dibujo\n",
    "    # Las dos siguientes líneas son para pintar en 2D\n",
    "    glMatrixMode(GL_PROJECTION)\n",
    "    gluOrtho2D(0, 10, 0, 10)                            # left, right, bottom, top. VENTANA DE RECORTE"
   ]
  },
  {
   "cell_type": "markdown",
   "id": "1a4656ab",
   "metadata": {},
   "source": [
    "### Función callback de display\n",
    "\n",
    "-  La callback de display es invvocada por el sistema cuando sea necesario dibujar la ventana.\n",
    "-  Limpia el buffer de dibuo, llama a una función que dibuja un triángulo y finalmente invoca a la función glFlush() "
   ]
  },
  {
   "cell_type": "code",
   "execution_count": 3,
   "id": "4ccf2269",
   "metadata": {},
   "outputs": [],
   "source": [
    "def display():\n",
    "    glClear(GL_COLOR_BUFFER_BIT)     # Limpia el buffer de dibujo\n",
    "    triangle()\n",
    "    glFlush()                        # Se visualiza en pantalla la imagen creada (el triángulo)"
   ]
  },
  {
   "cell_type": "markdown",
   "id": "31c36dc2",
   "metadata": {},
   "source": [
    "### Función que dibuja un triágulo\n",
    "\n",
    "Esta función dibuja un triángulo de color rojo, con vértices (0.0, 0.0), (4.0, 0.0) y (2-0, 5.0)."
   ]
  },
  {
   "cell_type": "code",
   "execution_count": 4,
   "id": "11f5b9e5",
   "metadata": {},
   "outputs": [],
   "source": [
    "def triangle():\n",
    "    glColor3f(200/255, 0.0, 0.0)     # Establece el color (rojo) para el dibujo del polígono\n",
    "    glBegin(GL_POLYGON)              # Inicio de la definición de puntos para dibujo del polígono \n",
    "    glVertex2f(0.0, 0.0)             # Definición de un vértice con dos coordenadas de tipo real\n",
    "    glVertex2f(4.0, 0.0)\n",
    "    glVertex2f(2.0, 5.0)\n",
    "    glEnd()                          # Fin de la definición iniciada con glBegin "
   ]
  },
  {
   "cell_type": "markdown",
   "id": "09f9da73",
   "metadata": {},
   "source": [
    "### Función principal que llama a las funciones de inicialización y de establecimiento de la callback de dibujo."
   ]
  },
  {
   "cell_type": "code",
   "execution_count": 5,
   "id": "f88476fd",
   "metadata": {},
   "outputs": [],
   "source": [
    "def main():\n",
    "    init_gl()\n",
    "    glutDisplayFunc(display)       # Establecer la callback de display\n",
    "    glutMainLoop()                 # Deja la ventana abierta a la espera de eventos\n",
    "    "
   ]
  },
  {
   "cell_type": "markdown",
   "id": "30611dc5",
   "metadata": {},
   "source": [
    "### Llamada a la función principal"
   ]
  },
  {
   "cell_type": "code",
   "execution_count": 6,
   "id": "5ab91f77",
   "metadata": {},
   "outputs": [
    {
     "ename": "",
     "evalue": "",
     "output_type": "error",
     "traceback": [
      "\u001b[1;31mThe Kernel crashed while executing code in the current cell or a previous cell. \n",
      "\u001b[1;31mPlease review the code in the cell(s) to identify a possible cause of the failure. \n",
      "\u001b[1;31mClick <a href='https://aka.ms/vscodeJupyterKernelCrash'>here</a> for more info. \n",
      "\u001b[1;31mView Jupyter <a href='command:jupyter.viewOutput'>log</a> for further details."
     ]
    }
   ],
   "source": [
    "main()\n"
   ]
  }
 ],
 "metadata": {
  "kernelspec": {
   "display_name": "Python 3 (ipykernel)",
   "language": "python",
   "name": "python3"
  },
  "language_info": {
   "codemirror_mode": {
    "name": "ipython",
    "version": 3
   },
   "file_extension": ".py",
   "mimetype": "text/x-python",
   "name": "python",
   "nbconvert_exporter": "python",
   "pygments_lexer": "ipython3",
   "version": "3.11.8"
  }
 },
 "nbformat": 4,
 "nbformat_minor": 5
}
